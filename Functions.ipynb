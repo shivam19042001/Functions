{
  "nbformat": 4,
  "nbformat_minor": 0,
  "metadata": {
    "colab": {
      "provenance": []
    },
    "kernelspec": {
      "name": "python3",
      "display_name": "Python 3"
    },
    "language_info": {
      "name": "python"
    }
  },
  "cells": [
    {
      "cell_type": "code",
      "execution_count": null,
      "metadata": {
        "id": "YQfhvavCFcDE"
      },
      "outputs": [],
      "source": []
    },
    {
      "cell_type": "markdown",
      "source": [
        "#Function"
      ],
      "metadata": {
        "id": "Ob9lTLr1Fc7m"
      }
    },
    {
      "cell_type": "code",
      "source": [
        "#1 What is the difference between a function and a method in Python?\n",
        "\"\"\"\n",
        "Functions are independent blocks of code that can be called from anywhere, while\n",
        " methods are tied to objects or classes and need an object or class instance to\n",
        " be invoked.\n",
        "\n",
        "------Ex.Example of a Function-----------\n",
        "# Function definition\n",
        "def welcome(user):\n",
        "    return f\"Welcome, {user}!\"\n",
        "\n",
        "# Calling the function\n",
        "print(welcome(\"John\"))  # Output: Welcome, John!\n",
        "\n",
        "-->Here, welcome() is a function that works on any input and is not tied\n",
        " to any object.\n",
        "\n",
        " --------Ex. Example of a Method-------\n",
        "\n",
        " class Employee:\n",
        "    def __init__(self, emp_name):\n",
        "        self.emp_name = emp_name  # Attribute\n",
        "\n",
        "    def introduce(self):  # Method\n",
        "        return f\"My name is {self.emp_name}, and I am an employee.\"\n",
        "\n",
        "# Creating an object (instance) of Employee\n",
        "e1 = Employee(\"John\")\n",
        "\n",
        "# Calling the method\n",
        "print(e1.introduce())  # Output: My name is John, and I am an employee.\n",
        "\n",
        "-->Here, introduce() is a method because it is called using e1.introduce()\n",
        " and operates on self.emp_name.\n",
        "\n",
        "\n",
        "\"\"\"\n"
      ],
      "metadata": {
        "colab": {
          "base_uri": "https://localhost:8080/",
          "height": 122
        },
        "collapsed": true,
        "id": "ZIGXWcKxFfjx",
        "outputId": "724646e3-a878-41a1-b528-8b612e088046"
      },
      "execution_count": 6,
      "outputs": [
        {
          "output_type": "execute_result",
          "data": {
            "text/plain": [
              "'\\nFunctions are independent blocks of code that can be called from anywhere, while\\n methods are tied to objects or classes and need an object or class instance to\\n be invoked.\\n\\n------Ex.Example of a Function-----------\\n# Function definition\\ndef welcome(user):\\n    return f\"Welcome, {user}!\"\\n\\n# Calling the function\\nprint(welcome(\"John\"))  # Output: Welcome, John!\\n\\n-->Here, welcome() is a function that works on any input and is not tied\\n to any object.\\n\\n --------Ex. Example of a Method-------\\n\\n class Employee:\\n    def __init__(self, emp_name):\\n        self.emp_name = emp_name  # Attribute\\n\\n    def introduce(self):  # Method\\n        return f\"My name is {self.emp_name}, and I am an employee.\"\\n\\n# Creating an object (instance) of Employee\\ne1 = Employee(\"John\")\\n\\n# Calling the method\\nprint(e1.introduce())  # Output: My name is John, and I am an employee.\\n-->Here, introduce() is a method because it is called using e1.introduce()\\n and operates on self.emp_name.\\n\\n'"
            ],
            "application/vnd.google.colaboratory.intrinsic+json": {
              "type": "string"
            }
          },
          "metadata": {},
          "execution_count": 6
        }
      ]
    },
    {
      "cell_type": "code",
      "source": [
        "#2 Explain the concept of function arguments and parameters in Python.\n",
        "\n",
        "\"\"\"\n",
        "In Python, function arguments and parameters are terms related to passing information into functions.\n",
        "\n",
        "1. Parameters\n",
        " -Parameters are the variable names listed in a function’s definition. They act as placeholders that\n",
        " allow you to pass data into the function\n",
        " -When you create a function, you add parameters to tell the function what kind of data it should receive.\n",
        "\n",
        " Ex.\n",
        " def greet(name):\n",
        "     print(\"Hello, \" + name + \"!\")\n",
        "\n",
        " greet(\"John\")\n",
        " greet(\"Alice\")\n",
        " Here, name is a parameter that takes different values (\"John\", \"Alice\") when the function runs.\n",
        "\n",
        "2. Arguments\n",
        " -Arguments are the actual values you pass to the function when you call it. These values replace the\n",
        " parameters and are used within the function’s body.\n",
        " -When you run a function, the arguments you provide match the parameters in the function definition.\n",
        "\n",
        " Ex.\n",
        "\n",
        " def greet(name):\n",
        "    print(\"Hello, \" + name + \"!\")\n",
        "\n",
        " greet(\"John\")\n",
        " greet(\"Alice\")\n",
        "\n",
        " Here, \"John\" and \"Alice\" are arguments passed to the function, replacing the name parameter.\n",
        " \"\"\""
      ],
      "metadata": {
        "id": "cQFwmI39Fkvj"
      },
      "execution_count": 2,
      "outputs": []
    },
    {
      "cell_type": "code",
      "source": [
        "#3 What are the different ways to define and call a function in Python?\n",
        "\n",
        "\"\"\"\n",
        "-A function in Python is a reusable block of code that performs a specific task. It allows you to break a program into smaller, manageable parts and avoid repeating code.\n",
        "\n",
        "Let's see Examples.\n",
        "\n",
        "1. Standard Function\n",
        "  A basic function that takes required parameters.\n",
        "Ex.def multiply(a, b):\n",
        "    return a * b\n",
        "\n",
        "# Calling the function\n",
        "print(multiply(5, 3))  # Output: 15\n",
        "\n",
        "-------------------------------------------------------\n",
        "\n",
        "2. Function with Default Parameters\n",
        "   A function where parameters have default values.\n",
        "Ex.\n",
        "def greet(name=\"Guest\"):\n",
        "    return f\"Hello, {name}!\"\n",
        "\n",
        "# Calling the function\n",
        "print(greet())         # Output: Hello, Guest!\n",
        "print(greet(\"Alice\"))  # Output: Hello, Alice!\n",
        "\n",
        "-----------------------------------------------------------\n",
        "\n",
        "3. Lambda (Anonymous) Functions\n",
        "   A small one-line function using lambda.\n",
        "Ex.\n",
        "square = lambda x: x ** 2\n",
        "\n",
        "# Calling the lambda function\n",
        "print(square(4))  # Output: 16\n",
        "\n",
        "->lambda x: x ** 2 defines a function that returns the square of x.\n",
        "\n",
        "---------------------------------------------------------------\n",
        "\n",
        "4. Using *args for Variable-Length Positional Arguments\n",
        "  A function that accepts multiple positional arguments.\n",
        "Ex.\n",
        "\n",
        "def add_all(*numbers):\n",
        "    return sum(numbers)\n",
        "\n",
        "# Calling the function\n",
        "print(add_all(2, 4, 6, 8))  # Output: 20\n",
        "\n",
        "-------------------------------------------------------\n",
        "\n",
        "5. Using **kwargs for Variable-Length Keyword Arguments\n",
        "    A function that accepts multiple keyword arguments.\n",
        "\n",
        "Ex.\n",
        "def person_info(**details):\n",
        "    return f\"Name: {details['name']}, Age: {details['age']}\"\n",
        "\n",
        "# Calling the function\n",
        "print(person_info(name=\"John\", age=30))  # Output: Name: John, Age: 30\n",
        "\n",
        "----------------------------------------------------------\n",
        "\n",
        "6. Calling Functions as Arguments\n",
        "   A function can be passed as an argument to another function.\n",
        "Ex.\n",
        "\n",
        "def double(n):\n",
        "    return n * 2\n",
        "\n",
        "def apply_function(func, value):\n",
        "    return func(value)\n",
        "\n",
        "# Calling the function\n",
        "print(apply_function(double, 5))  # Output: 10\n",
        "\n",
        "\n",
        "-------------------------------------------------------\n",
        "\n",
        "7. Calling Functions Recursively\n",
        "A function that calls itself (useful for problems like factorial).\n",
        "Ex.\n",
        "\n",
        "def factorial(n):\n",
        "    if n == 1:\n",
        "        return 1\n",
        "    return n * factorial(n - 1)\n",
        "\n",
        "# Calling the function\n",
        "print(factorial(5))  # Output: 120\n",
        "\n",
        "---------------------------------------------------\n",
        "\n",
        "8. Using map() with Lambda or Regular Functions\n",
        "   Applying a function to all elements of an iterable.\n",
        "\n",
        "numbers = [1, 2, 3, 4]\n",
        "\n",
        "# Using a regular function\n",
        "def square(n):\n",
        "    return n ** 2\n",
        "\n",
        "print(list(map(square, numbers)))  # Output: [1, 4, 9, 16]\n",
        "\n",
        "# Using a lambda function\n",
        "print(list(map(lambda x: x ** 2, numbers)))  # Output: [1, 4, 9, 16]\n",
        "\n",
        "\n",
        "\"\"\""
      ],
      "metadata": {
        "id": "M51Q7rBiRebB"
      },
      "execution_count": null,
      "outputs": []
    },
    {
      "cell_type": "code",
      "source": [
        "#4. What is the purpose of the `return` statement in a Python function?\n",
        "\n",
        "\"\"\"\n",
        "1. Provides Output\n",
        "   A function returns a value that can be used elsewhere.\n",
        "\n",
        "Ex.\n",
        "\n",
        "def add(a, b):\n",
        "    return a + b  # Returns the sum of a and b\n",
        "\n",
        "result = add(5, 3)\n",
        "print(result)  # Output: 8\n",
        "\n",
        "----------------------------------------\n",
        "\n",
        "2.Stops Function Execution\n",
        "  Once return is reached, the function exits immediately.\n",
        "\n",
        "Ex.\n",
        "def check_number(n):\n",
        "    if n > 0:\n",
        "        return \"Positive\"\n",
        "    return \"Not Positive\"\n",
        "\n",
        "print(check_number(5))   # Output: Positive\n",
        "print(check_number(-2))  # Output: Not Positive\n",
        "\n",
        "-------------------------------------------------------\n",
        "\n",
        "3.Enhances Reusability\n",
        "  The function can be reused in different parts of the program.\n",
        "\n",
        "Ex.\n",
        "\n",
        "def square(n):\n",
        "    return n * n  # Returns the square of n\n",
        "\n",
        "num1 = square(4)\n",
        "num2 = square(7)\n",
        "\n",
        "print(num1)  # Output: 16\n",
        "print(num2)  # Output: 49\n",
        "\n",
        "\"\"\"\n"
      ],
      "metadata": {
        "id": "VjsNmm4tVm6p"
      },
      "execution_count": null,
      "outputs": []
    },
    {
      "cell_type": "code",
      "source": [
        "#5 What are iterators in Python and how do they differ from iterables?\n",
        "\n",
        "\"\"\"\n",
        " Iterators:-\n",
        " An iterator is a special object that enables Python to fetch items from an iterable one at a time.\n",
        "\n",
        "To create an iterator from a collection, use the iter() function.\n",
        "\n",
        "- Iterators have a special method called __next__(), which gives the next item in the collection when called.\n",
        "\n",
        "- Once all items are used, calling next() will raise a StopIteration error, meaning there are no more items left.\n",
        "\n",
        "- Iterators remember their position in the sequence, so they continue from where they last stopped.\n",
        "\n",
        "- They only fetch values when needed, which helps save memory, especially for large data sets.\n",
        "\n",
        "Ex.\n",
        "values = [10, 20, 30]  # A list (iterable)\n",
        "\n",
        "itr = iter(values)  # Create an iterator\n",
        "\n",
        "print(next(itr))  # Output: 10\n",
        "print(next(itr))  # Output: 20\n",
        "print(next(itr))  # Output: 30\n",
        "------------------------------------------------------------------\n",
        "\n",
        "how do they Differ from iterables?\n",
        "\n",
        "Iterable: An object that contains multiple values and can be looped over.\n",
        "Iterator: An object that fetches values from an iterable one at a time.\n",
        "\n",
        "Iterable: Has the __iter__() method, which returns an iterator.\n",
        "Iterator: Has both __iter__() and __next__() methods.\n",
        "\n",
        "\n",
        "-----------------------------------------------------------------\n",
        "\n"
      ],
      "metadata": {
        "colab": {
          "base_uri": "https://localhost:8080/",
          "height": 106
        },
        "id": "4WzbEs5CXPXn",
        "outputId": "1291340a-99f0-475d-84ea-5aebd16aa27f"
      },
      "execution_count": 9,
      "outputs": [
        {
          "output_type": "error",
          "ename": "SyntaxError",
          "evalue": "incomplete input (<ipython-input-9-4ce89b0c00a4>, line 3)",
          "traceback": [
            "\u001b[0;36m  File \u001b[0;32m\"<ipython-input-9-4ce89b0c00a4>\"\u001b[0;36m, line \u001b[0;32m3\u001b[0m\n\u001b[0;31m    \"\"\"\u001b[0m\n\u001b[0m    ^\u001b[0m\n\u001b[0;31mSyntaxError\u001b[0m\u001b[0;31m:\u001b[0m incomplete input\n"
          ]
        }
      ]
    },
    {
      "cell_type": "code",
      "source": [
        "#6 Explain the concept of generators in Python and how they are defined.\n",
        "\"\"\"\n",
        "In Python, generators are a type of iterator that enable you to traverse through\n",
        "data without loading the entire sequence into memory simultaneously. They are\n",
        "particularly efficient for managing large datasets or continuous data streams\n",
        ", as they produce values on-the-fly, only when required. This makes them ideal\n",
        "for situations where you don’t need to process all the data at once, such as\n",
        "reading a file line by line or generating an endless sequence of numbers.\n",
        "\n",
        "Generators can be created in two ways:\n",
        "\n",
        "1.Generator Functions: These are functions that use the yield keyword instead of\n",
        " return. When the function encounters yield, it temporarily halts execution and\n",
        " returns a value to the caller. The function resumes from where it left off when\n",
        "the next value is requested using next(). Here’s an example:\n",
        "\n",
        "# Generator function\n",
        "def count_numbers(limit):\n",
        "    num = 1\n",
        "    while num <= limit:\n",
        "        yield num  # Pauses and yields the current number\n",
        "        num += 1\n",
        "\n",
        "# Create a generator object\n",
        "counter = count_numbers(5)\n",
        "\n",
        "# Print values one by one\n",
        "print(next(counter))  # Output: 1\n",
        "print(next(counter))  # Output: 2\n",
        "print(next(counter))  # Output: 3\n",
        "print(next(counter))  # Output: 4\n",
        "print(next(counter))  # Output: 5\n",
        "\n",
        "\n",
        "2. Generator Expressions: These are similar to list comprehensions but use paren\n",
        "   theses () instead of square brackets []. They provide a compact way to create\n",
        "   generators for quick, on-the-fly value generation. For example:\n",
        "\n",
        "   # Generator expression\n",
        "squares = (x**2 for x in range(1, 6))\n",
        "\n",
        "# Print values one by one\n",
        "print(next(squares))  # Output: 1\n",
        "print(next(squares))  # Output: 4\n",
        "print(next(squares))  # Output: 9\n",
        "print(next(squares))  # Output: 16\n",
        "print(next(squares))  # Output: 25\n",
        "\n",
        "\"\"\""
      ],
      "metadata": {
        "id": "qEa8n_2_XvAh"
      },
      "execution_count": null,
      "outputs": []
    },
    {
      "cell_type": "code",
      "source": [
        "#7 What are the advantages of using generators over regular functions?\n",
        "\"\"\"\n",
        "Advantages of Generators\n",
        "-- Saves Memory – Generators don’t store all data at once, making them ideal for handling large datasets.\n",
        "\n",
        "-- Boosts Speed – They create data only when needed, improving performance.\n",
        "\n",
        "-- Easier Code – Generators simplify iteration by automatically handling state management.\n",
        "-------------------------------------------------------------------\n",
        "Ex.\n",
        "\n",
        "def fibonacci_generator(limit):\n",
        "    a, b = 0, 1\n",
        "    while a < limit:\n",
        "        yield a\n",
        "        a, b = b, a + b\n",
        "\n",
        "# Using the generator\n",
        "fib_gen = fibonacci_generator(10)\n",
        "\n",
        "for num in fib_gen:\n",
        "    print(num)\n",
        "\n",
        "-----------------------------\n",
        "\n",
        "Explanation:\n",
        "--The fibonacci_generator function is a generator that yields Fibonacci numbers\n",
        " upto a specified limit.\n",
        "\n",
        "--The yield keyword produces the next value in the sequence each time it’s called,\n",
        " instead of generating all values at once.\n",
        "\n",
        "--This way, the Fibonacci sequence is generated only as needed, which makes it\n",
        "  memory efficient.\n",
        "\n",
        "\"\"\""
      ],
      "metadata": {
        "id": "wJLA1NNPbbqH"
      },
      "execution_count": 10,
      "outputs": []
    },
    {
      "cell_type": "code",
      "source": [
        "#8 What is a lambda function in Python and when is it typically used?\n",
        "\n",
        "1.Definition:\n",
        "\n",
        "A lambda function is a small, anonymous function.\n",
        "It is defined using the lambda keyword.\n",
        "\n",
        "\n",
        "2.Syntax:\n",
        "\n",
        "lambda arguments: expression\n",
        "\n",
        "arguments: Input parameters (can be multiple, separated by commas).\n",
        "expression: A single expression that is evaluated and returned.\n",
        "\n",
        "3.Key Characteristics:\n",
        "\n",
        "Lambda functions can take any number of arguments.\n",
        "They can only have one expression, which is evaluated and returned automatically.\n",
        "They are typically used for short, simple operations.\n",
        "\n",
        "4.Anonymous:\n",
        "\n",
        "Unlike regular functions that use the def keyword, lambda functions are\n",
        "anonymous (i.e., they do not have a name unless assigned).\n",
        "-----------------------------\n",
        "5.Example:\n",
        "  add = lambda x, y: x + y\n",
        "  result = add(5, 3)  # Output: 8\n",
        "-----------------------------------------------\n",
        "6.Use Cases:\n",
        "\n",
        "-Quick functions: When a short function is needed temporarily.\n",
        "-In higher-order functions: Often used with functions like map(), filter(),\n",
        " and reduce().\n",
        "-Sorting: Can be used for custom sorting with sorted() or sort() functions.\n",
        "\n"
      ],
      "metadata": {
        "id": "0rWmWEs6bf_G"
      },
      "execution_count": 12,
      "outputs": []
    },
    {
      "cell_type": "code",
      "source": [
        "#9 Explain the purpose and usage of the `map()` function in Python.\n",
        "\n",
        "The map() function in Python is used to apply a given function to every item in\n",
        "an iterable (like a list or tuple) and return a map object (an iterator). Its\n",
        "main purpose is to make it easier to process or transform the elements of the\n",
        "iterable in a more efficient way.\n",
        "\n",
        "Key purposes of map():\n",
        "1.Transformation: It transforms the data by applying a function to each element.\n",
        "2.Efficiency: It can be faster than using loops because it supports lazy\n",
        "  evaluation, meaning it only computes values when needed.\n",
        "\n",
        "Example:\n",
        "# Function to square a number\n",
        "def square(x):\n",
        "    return x * x\n",
        "\n",
        "# List of numbers\n",
        "numbers = [1, 2, 3, 4]\n",
        "\n",
        "# Using map() to square each number\n",
        "squared_numbers = map(square, numbers)\n",
        "\n",
        "# Converting map object to a list to see the result\n",
        "print(list(squared_numbers))  # Output: [1, 4, 9, 16]\n",
        "-----------------------------------------------------------------\n",
        "In this example, map() applies the square() function to each element in the\n",
        "numbers list. The result is a map object, which is then converted to a list\n",
        "to show the squared values."
      ],
      "metadata": {
        "id": "r7DDkJ1Gcg-t"
      },
      "execution_count": null,
      "outputs": []
    },
    {
      "cell_type": "code",
      "source": [
        "#10.What is the difference between `map()`, `reduce()`, and `filter()` functions in Python?\n",
        "\n",
        "In Python, the map(), reduce(), and filter() functions are all used to process\n",
        "iterables, but they serve different purposes and have distinct behaviors:\n",
        "\n",
        "1. map()\n",
        "- Purpose: Applies a function to each item in an iterable (like a list, tuple, etc.)\n",
        " and returns a map object (an iterator) with the transformed values.\n",
        "- Output: A new iterable with the results of applying the function to each\n",
        " element.\n",
        "- Use Case: When you need to transform or modify the elements of an iterable.\n",
        "\n",
        "Example:\n",
        "numbers = [1, 2, 3, 4]\n",
        "squared = map(lambda x: x**2, numbers)\n",
        "print(list(squared))  # Output: [1, 4, 9, 16]\n",
        "\n",
        "--------------------------------------------------------------------------\n",
        "\n",
        "2. reduce()\n",
        "- Purpose: Applies a binary function (a function that takes two arguments)\n",
        " cumulatively to the items of an iterable, reducing the iterable to a single\n",
        "  result.\n",
        "- Output: A single value that is the result of applying the function cumulatively\n",
        " to the iterable.\n",
        "- Use Case: When you need to aggregate or combine elements from an iterable into\n",
        " a single value (e.g., summing elements, multiplying them).\n",
        "\n",
        "\n",
        " Example:\n",
        "\n",
        " from functools import reduce\n",
        "numbers = [1, 2, 3, 4]\n",
        "result = reduce(lambda x, y: x + y, numbers)\n",
        "print(result)  # Output: 10 (1 + 2 + 3 + 4)\n",
        "\n",
        "-------------------------------------------------------------------------\n",
        "\n",
        "3. filter()\n",
        "- Purpose: Filters elements from an iterable based on a condition provided by\n",
        " a function. It returns an iterator that contains only the elements that satisfy\n",
        "  the condition.\n",
        "- Output: An iterable with only the elements that meet the condition\n",
        " (True values from the function).\n",
        "- Use Case: When you need to filter elements based on a condition\n",
        " (e.g., even numbers, positive values).\n",
        "\n",
        " Example:\n",
        "\n",
        " numbers = [1, 2, 3, 4, 5]\n",
        "even_numbers = filter(lambda x: x % 2 == 0, numbers)\n",
        "print(list(even_numbers))  # Output: [2, 4]\n",
        "\n",
        "\n",
        "\n"
      ],
      "metadata": {
        "id": "r40gQQhSfIwU"
      },
      "execution_count": null,
      "outputs": []
    },
    {
      "cell_type": "code",
      "source": [
        "#11. Using pen & Paper write the internal mechanism for sum operation using  reduce function on this given list:[47,11,42,13];\n",
        "\n",
        "in Doc File"
      ],
      "metadata": {
        "id": "g4665WNxgGm1"
      },
      "execution_count": null,
      "outputs": []
    },
    {
      "cell_type": "code",
      "source": [],
      "metadata": {
        "id": "B9OYjvOwkAmL"
      },
      "execution_count": null,
      "outputs": []
    },
    {
      "cell_type": "markdown",
      "source": [
        "Practicle Questions\n"
      ],
      "metadata": {
        "id": "mLrBLrDRkBKy"
      }
    },
    {
      "cell_type": "code",
      "source": [
        "#1. Write a Python function that takes a list of numbers as input and returns the sum of all even numbers inthe list.\n",
        "\n",
        "def sum_of_even_numbers():\n",
        "\n",
        "    user_input = input(\"Enter a list of numbers (separated by spaces): \")\n",
        "    numbers = list(map(int, user_input.split()))\n",
        "\n",
        "\n",
        "    even_numbers = filter(lambda x: x % 2 == 0, numbers)\n",
        "    return sum(even_numbers)\n",
        "\n",
        "\n",
        "result = sum_of_even_numbers()\n",
        "print(\"Sum of even numbers:\", result)\n"
      ],
      "metadata": {
        "colab": {
          "base_uri": "https://localhost:8080/"
        },
        "id": "ZtDJXL-PkEz-",
        "outputId": "ee76d753-9768-438b-d241-0c753d54cada"
      },
      "execution_count": 15,
      "outputs": [
        {
          "output_type": "stream",
          "name": "stdout",
          "text": [
            "Enter a list of numbers (separated by spaces): 44 33 55 34\n",
            "Sum of even numbers: 78\n"
          ]
        }
      ]
    },
    {
      "cell_type": "code",
      "source": [
        "#2.Create a Python function that accepts a string and returns the reverse of that string.\n",
        "\n",
        "def reverse_string(s):\n",
        "    return s[::-1]\n",
        "\n",
        "\n",
        "input_string = input(\"Enter a string: \")\n",
        "reversed_string = reverse_string(input_string)\n",
        "print(\"Reversed string:\", reversed_string)\n"
      ],
      "metadata": {
        "colab": {
          "base_uri": "https://localhost:8080/"
        },
        "id": "o0_OnlkkkaC7",
        "outputId": "6eee4768-65d1-4ffe-d77e-151a8a20c62a"
      },
      "execution_count": 16,
      "outputs": [
        {
          "output_type": "stream",
          "name": "stdout",
          "text": [
            "Enter a string: hii\n",
            "Reversed string: iih\n"
          ]
        }
      ]
    },
    {
      "cell_type": "code",
      "source": [
        "#3. Implement a Python function that takes a list of integers and returns a new list containing the squares of each number.\n",
        "\n",
        "def square_numbers(numbers):\n",
        "    return [x ** 2 for x in numbers]\n",
        "\n",
        "# Example usage\n",
        "input_list = list(map(int, input(\"Enter a list of numbers (separated by spaces): \").split()))\n",
        "squared_list = square_numbers(input_list)\n",
        "print(\"List of squared numbers:\", squared_list)\n"
      ],
      "metadata": {
        "colab": {
          "base_uri": "https://localhost:8080/"
        },
        "id": "itg45SPzmECm",
        "outputId": "ac0edf09-9b51-4fb2-d6e9-2bb36cd53671"
      },
      "execution_count": 17,
      "outputs": [
        {
          "output_type": "stream",
          "name": "stdout",
          "text": [
            "Enter a list of numbers (separated by spaces): 33 44\n",
            "List of squared numbers: [1089, 1936]\n"
          ]
        }
      ]
    },
    {
      "cell_type": "code",
      "source": [
        "#4. Write a Python function that checks if a given number is prime or not from 1 to 200.\n",
        "\n",
        "def check_prime(num):\n",
        "    if num <= 1:\n",
        "        return False\n",
        "    for divisor in range(2, num):\n",
        "        if num % divisor == 0:\n",
        "            return False\n",
        "    return True\n",
        "\n",
        "# Example usage\n",
        "for value in range(1, 201):\n",
        "    if check_prime(value):\n",
        "        print(value, \"is prime\")\n"
      ],
      "metadata": {
        "colab": {
          "base_uri": "https://localhost:8080/"
        },
        "id": "ghiAwUhhm16S",
        "outputId": "6158c313-5889-47fa-9561-49bc928e4884"
      },
      "execution_count": 20,
      "outputs": [
        {
          "output_type": "stream",
          "name": "stdout",
          "text": [
            "2 is prime\n",
            "3 is prime\n",
            "5 is prime\n",
            "7 is prime\n",
            "11 is prime\n",
            "13 is prime\n",
            "17 is prime\n",
            "19 is prime\n",
            "23 is prime\n",
            "29 is prime\n",
            "31 is prime\n",
            "37 is prime\n",
            "41 is prime\n",
            "43 is prime\n",
            "47 is prime\n",
            "53 is prime\n",
            "59 is prime\n",
            "61 is prime\n",
            "67 is prime\n",
            "71 is prime\n",
            "73 is prime\n",
            "79 is prime\n",
            "83 is prime\n",
            "89 is prime\n",
            "97 is prime\n",
            "101 is prime\n",
            "103 is prime\n",
            "107 is prime\n",
            "109 is prime\n",
            "113 is prime\n",
            "127 is prime\n",
            "131 is prime\n",
            "137 is prime\n",
            "139 is prime\n",
            "149 is prime\n",
            "151 is prime\n",
            "157 is prime\n",
            "163 is prime\n",
            "167 is prime\n",
            "173 is prime\n",
            "179 is prime\n",
            "181 is prime\n",
            "191 is prime\n",
            "193 is prime\n",
            "197 is prime\n",
            "199 is prime\n"
          ]
        }
      ]
    },
    {
      "cell_type": "code",
      "source": [
        "#5  Create an iterator class in Python that generates the Fibonacci sequence up to a specified number of terms.\n",
        "\n",
        "class FibonacciSequence:\n",
        "    def __init__(self, num_terms):\n",
        "        self.num_terms = num_terms  # Number of terms to generate\n",
        "        self.first = 0  # First number in the Fibonacci sequence\n",
        "        self.second = 1  # Second number in the Fibonacci sequence\n",
        "        self.index = 0  # Counter to track the number of terms generated\n",
        "\n",
        "    def __iter__(self):\n",
        "        return self  # Returns the iterator object itself\n",
        "\n",
        "    def __next__(self):\n",
        "        if self.index >= self.num_terms:\n",
        "            raise StopIteration  # Stop iteration once the specified number of terms is reached\n",
        "        if self.index == 0:\n",
        "            self.index += 1\n",
        "            return self.first\n",
        "        elif self.index == 1:\n",
        "            self.index += 1\n",
        "            return self.second\n",
        "        else:\n",
        "            next_value = self.first + self.second\n",
        "            self.first = self.second\n",
        "            self.second = next_value\n",
        "            self.index += 1\n",
        "            return next_value\n",
        "\n",
        "# Example usage\n",
        "num_terms = int(input(\"Enter the number of Fibonacci terms you want: \"))\n",
        "fib_sequence = FibonacciSequence(num_terms)\n",
        "\n",
        "for number in fib_sequence:\n",
        "    print(number)\n"
      ],
      "metadata": {
        "colab": {
          "base_uri": "https://localhost:8080/"
        },
        "id": "O_TCTJLAnsJL",
        "outputId": "5e530b64-3825-4c6b-9bcf-57ab50f07b0a"
      },
      "execution_count": 21,
      "outputs": [
        {
          "output_type": "stream",
          "name": "stdout",
          "text": [
            "Enter the number of Fibonacci terms you want: 5\n",
            "0\n",
            "1\n",
            "1\n",
            "2\n",
            "3\n"
          ]
        }
      ]
    },
    {
      "cell_type": "code",
      "source": [
        "#6  Write a generator function in Python that yields the powers of 2 up to a given exponent.\n",
        "def generate_powers(base, limit):\n",
        "    for power in range(limit + 1):\n",
        "        yield base ** power\n",
        "\n",
        "# Example usage\n",
        "limit = int(input(\"Enter the exponent limit: \"))\n",
        "for result in generate_powers(2, limit):\n",
        "    print(result)\n"
      ],
      "metadata": {
        "colab": {
          "base_uri": "https://localhost:8080/"
        },
        "id": "rS2GrD3ttYQf",
        "outputId": "7dcf66f5-ec9a-4a8f-d74d-7f9c623bbeae"
      },
      "execution_count": 23,
      "outputs": [
        {
          "output_type": "stream",
          "name": "stdout",
          "text": [
            "Enter the exponent limit: 6\n",
            "1\n",
            "2\n",
            "4\n",
            "8\n",
            "16\n",
            "32\n",
            "64\n"
          ]
        }
      ]
    },
    {
      "cell_type": "code",
      "source": [
        "#7  Implement a generator function that reads a file line by line and yields each line as a string.\n",
        "\n",
        "def read_lines(filename):\n",
        "    with open(filename, 'r') as file:\n",
        "        for line in file:\n",
        "            yield line.strip()  # Use strip() to remove leading/trailing whitespace\n",
        "\n",
        "# Example usage\n",
        "filename = input(\"Enter the file name: \")\n",
        "for line in read_lines(filename):\n",
        "    print(line)\n"
      ],
      "metadata": {
        "colab": {
          "base_uri": "https://localhost:8080/"
        },
        "id": "ME8LZlfOt8bI",
        "outputId": "0dece776-e5b5-4300-c519-a64b091a75fc"
      },
      "execution_count": 38,
      "outputs": [
        {
          "output_type": "stream",
          "name": "stdout",
          "text": [
            "Enter the file name: hiitemp.txt\n",
            "hii!\n",
            "My name is Shivam.\n",
            "This is python assignment.\n"
          ]
        }
      ]
    },
    {
      "cell_type": "code",
      "source": [
        "#8 Use a lambda function in Python to sort a list of tuples based on the second element of each tuple.\n",
        "\n",
        "# List of tuples\n",
        "data = [(1, 5), (2, 2), (3, 8), (4, 1)]\n",
        "\n",
        "# Sort the list based on the second element of each tuple\n",
        "sorted_data = sorted(data, key=lambda x: x[1])\n",
        "\n",
        "# Print the sorted list\n",
        "print(sorted_data)\n"
      ],
      "metadata": {
        "colab": {
          "base_uri": "https://localhost:8080/"
        },
        "id": "R10Xnjnjudbj",
        "outputId": "1f79c0f3-4eec-452d-ed17-b597b0fd1543"
      },
      "execution_count": 39,
      "outputs": [
        {
          "output_type": "stream",
          "name": "stdout",
          "text": [
            "[(4, 1), (2, 2), (1, 5), (3, 8)]\n"
          ]
        }
      ]
    },
    {
      "cell_type": "code",
      "source": [
        "#9.  Write a Python program that uses `map()` to convert a list of temperatures from Celsius to Fahrenheit.\n",
        "\n",
        "# List of temperatures in Celsius\n",
        "temps_celsius = [27, 0, 98, 100, -10]\n",
        "\n",
        "# Function to convert Celsius to Fahrenheit\n",
        "def convert_to_fahrenheit(celsius):\n",
        "    return (celsius * 9/5) + 32\n",
        "\n",
        "# Using map to apply the conversion function to each element in the list\n",
        "temps_fahrenheit = list(map(convert_to_fahrenheit, temps_celsius))\n",
        "\n",
        "# Print the result\n",
        "print(temps_fahrenheit)\n"
      ],
      "metadata": {
        "colab": {
          "base_uri": "https://localhost:8080/"
        },
        "id": "BL-69WA-yIrB",
        "outputId": "cf6ec21c-a7f5-4430-faec-471e37ecede4"
      },
      "execution_count": 42,
      "outputs": [
        {
          "output_type": "stream",
          "name": "stdout",
          "text": [
            "[80.6, 32.0, 208.4, 212.0, 14.0]\n"
          ]
        }
      ]
    },
    {
      "cell_type": "code",
      "source": [
        "#10. Create a Python program that uses `filter()` to remove all the vowels from a given string.\n",
        "\n",
        "# Function to check if a character is a vowel\n",
        "def is_consonant(char):\n",
        "    return char.lower() not in 'aeiou'\n",
        "\n",
        "# Input string\n",
        "sample_text = \"Programming is fun!\"\n",
        "\n",
        "# Using filter to remove vowels\n",
        "result_text = ''.join(filter(is_consonant, sample_text))\n",
        "\n",
        "# Print the result\n",
        "print(result_text)\n"
      ],
      "metadata": {
        "colab": {
          "base_uri": "https://localhost:8080/"
        },
        "id": "us3njI0nyTCp",
        "outputId": "224dd603-15a0-4183-e4b1-6ebe22f03a3a"
      },
      "execution_count": 43,
      "outputs": [
        {
          "output_type": "stream",
          "name": "stdout",
          "text": [
            "Prgrmmng s fn!\n"
          ]
        }
      ]
    },
    {
      "cell_type": "code",
      "source": [
        "#11. Write a Python program, which returns a list with 2-tuples. Each tuple consists of the order number and the\n",
        "#product of the price per item and the quantity. The product should be increased by 10,- € if the value of the\n",
        "#order is smaller than 100,00 €.\n",
        "\n",
        "#Write a Python program using lambda and map.\n",
        "orders = [\n",
        "    (34587, \"Learning Python, Mark Lutz\", 4, 40.95),\n",
        "    (98762, \"Programming Python, Mark Lutz\", 5, 56.80),\n",
        "    (77226, \"Head First Python, Paul Barry\", 3, 32.95),\n",
        "    (88112, \"Einfuhrung in Python 3, Bernd Klein\", 3, 24.99)\n",
        "]\n",
        "\n",
        "# Lambda function to calculate the total cost, adding 10€ if the total is less than 100€\n",
        "calculate_total = lambda order: (order[0], order[2] * order[3] + (10 if order[2] * order[3] < 100 else 0))\n",
        "\n",
        "# Using map to apply the function to all orders\n",
        "order_totals = list(map(calculate_total, orders))\n",
        "\n",
        "print(order_totals)\n"
      ],
      "metadata": {
        "colab": {
          "base_uri": "https://localhost:8080/"
        },
        "id": "BTCZituOzYl8",
        "outputId": "c20dce9c-3331-412e-b89d-d43eb632f23b"
      },
      "execution_count": 44,
      "outputs": [
        {
          "output_type": "stream",
          "name": "stdout",
          "text": [
            "[(34587, 163.8), (98762, 284.0), (77226, 108.85000000000001), (88112, 84.97)]\n"
          ]
        }
      ]
    },
    {
      "cell_type": "code",
      "source": [],
      "metadata": {
        "id": "aOnLRe_Y0coV"
      },
      "execution_count": null,
      "outputs": []
    }
  ]
}